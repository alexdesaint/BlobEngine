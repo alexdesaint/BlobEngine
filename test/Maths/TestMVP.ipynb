{
 "metadata": {
  "language_info": {
   "codemirror_mode": {
    "name": "ipython",
    "version": 3
   },
   "file_extension": ".py",
   "mimetype": "text/x-python",
   "name": "python",
   "nbconvert_exporter": "python",
   "pygments_lexer": "ipython3",
   "version": "3.9.6-final"
  },
  "orig_nbformat": 2,
  "kernelspec": {
   "name": "python39664bit6edcbe90d61e40e895b8d3b314d5a51e",
   "display_name": "Python 3.9.6 64-bit"
  }
 },
 "nbformat": 4,
 "nbformat_minor": 2,
 "cells": [
  {
   "source": [
    "import numpy as np\n",
    "import math"
   ],
   "cell_type": "code",
   "metadata": {},
   "execution_count": 204,
   "outputs": []
  },
  {
   "source": [
    "# MVP\n",
    "\n",
    "$$$\n",
    "\\begin{bmatrix}\n",
    "x_{sceen} \\\\\n",
    "y_{sceen} \\\\\n",
    "z_{sceen} \\\\\n",
    "1\n",
    "\\end{bmatrix} = MVP * \\begin{bmatrix}\n",
    "x_{model} \\\\\n",
    "y_{model} \\\\\n",
    "z_{model} \\\\\n",
    "1\n",
    "\\end{bmatrix}\n",
    "$$$\n"
   ],
   "cell_type": "markdown",
   "metadata": {}
  },
  {
   "source": [
    "## Model\n",
    "\n",
    "$$$\n",
    "\\begin{bmatrix}\n",
    "x_{model} \\\\\n",
    "y_{model} \\\\\n",
    "z_{model} \\\\\n",
    "1\n",
    "\\end{bmatrix} = M * \\begin{bmatrix}\n",
    "x_{local} \\\\\n",
    "y_{local} \\\\\n",
    "z_{local} \\\\\n",
    "1\n",
    "\\end{bmatrix}\n",
    "$$$"
   ],
   "cell_type": "markdown",
   "metadata": {}
  },
  {
   "cell_type": "code",
   "execution_count": 205,
   "metadata": {},
   "outputs": [],
   "source": [
    "model = np.array([\n",
    "        [0, 2, 0, 2],\n",
    "        [1, 0, 0, 3],\n",
    "        [0, 0, 3, 1],\n",
    "        [0, 0, 0, 1],\n",
    "    ])"
   ]
  },
  {
   "source": [
    "\n",
    "## View\n",
    "\n",
    "$$$\n",
    "\\begin{bmatrix}\n",
    "x_{view} \\\\\n",
    "y_{view} \\\\\n",
    "z_{view} \\\\\n",
    "1\n",
    "\\end{bmatrix} = V * \\begin{bmatrix}\n",
    "x_{model} \\\\\n",
    "y_{model} \\\\\n",
    "z_{model} \\\\\n",
    "1\n",
    "\\end{bmatrix}\n",
    "$$$\n"
   ],
   "cell_type": "markdown",
   "metadata": {}
  },
  {
   "source": [
    "## Projection"
   ],
   "cell_type": "markdown",
   "metadata": {}
  },
  {
   "source": [
    "### Perspective\n",
    "\n",
    "$1 > Z_{screen} > -1$\n",
    "\n",
    "$f > Z_{view} > n$\n",
    "\n",
    "$$$\n",
    "\\begin{bmatrix}\n",
    "x_{projection} \\\\\n",
    "y_{projection} \\\\\n",
    "z_{projection} \\\\\n",
    "w_{projection}\n",
    "\\end{bmatrix} = \\begin{bmatrix}\n",
    "\\frac{n}{r} & 0 & 0 & 0 \\\\\n",
    "0 & \\frac{n}{t} & 0 & 0 \\\\\n",
    "0 & 0 & \\frac{-(f+n)}{f-n} & \\frac{-2fn}{f-n} \\\\\n",
    "0 & 0 & -1 & 0  \n",
    "\\end{bmatrix}* \\begin{bmatrix}\n",
    "x_{view} \\\\\n",
    "y_{view} \\\\\n",
    "z_{view} \\\\\n",
    "1\n",
    "\\end{bmatrix}\n",
    "$$$\n",
    "\n",
    "$$$\n",
    "\\begin{bmatrix}\n",
    "x_{screen} \\\\\n",
    "y_{screen} \\\\\n",
    "z_{screen} \\\\\n",
    "1\n",
    "\\end{bmatrix} = \\begin{bmatrix}\n",
    "\\frac{x_{projection}}{w_{projection}} \\\\\n",
    "\\frac{y_{projection}}{w_{projection}} \\\\\n",
    "\\frac{z_{projection}}{w_{projection}} \\\\\n",
    "\\frac{w_{projection}}{w_{projection}}\n",
    "\\end{bmatrix}\n",
    "$$$"
   ],
   "cell_type": "markdown",
   "metadata": {}
  },
  {
   "source": [
    "n = 2\n",
    "f = 10\n",
    "width = 4\n",
    "height = 2\n",
    "r = width / 2\n",
    "t = height / 2\n",
    "pointNear = np.array([r, t, -n, 1])\n",
    "pointFar = np.array([r * f/n, t * f/n, -f, 1])\n",
    "projection = np.array([\n",
    "    [n/r, 0, 0, 0],\n",
    "    [0, n/t, 0, 0],\n",
    "    [0, 0, -(f+n)/(f-n), -2*f*n/(f-n)],\n",
    "    [0, 0, -1, 0]\n",
    "])\n",
    "print(projection)\n",
    "tmp = np.matmul(projection, pointNear)\n",
    "print(tmp / tmp[3])\n",
    "tmp = np.matmul(projection, pointFar)\n",
    "print(tmp / tmp[3])"
   ],
   "cell_type": "code",
   "metadata": {},
   "execution_count": 206,
   "outputs": [
    {
     "output_type": "stream",
     "name": "stdout",
     "text": [
      "[[ 1.   0.   0.   0. ]\n [ 0.   2.   0.   0. ]\n [ 0.   0.  -1.5 -5. ]\n [ 0.   0.  -1.   0. ]]\n[ 1.  1. -1.  1.]\n[1. 1. 1. 1.]\n"
     ]
    }
   ]
  },
  {
   "source": [
    "### Orthographic\n",
    "\n",
    "$$$\n",
    "\\begin{bmatrix}\n",
    "x_{screen} \\\\\n",
    "y_{screen} \\\\\n",
    "z_{screen} \\\\\n",
    "1\n",
    "\\end{bmatrix} = \\begin{bmatrix}\n",
    "\\frac{1}{r} & 0 & 0 & 0 \\\\\n",
    "0 & \\frac{1}{t} & 0 & 0 \\\\\n",
    "0 & 0 & \\frac{-2}{f-n} & -\\frac{f+n}{f-n} \\\\\n",
    "0 & 0 & 0 & 1  \n",
    "\\end{bmatrix} * \\begin{bmatrix}\n",
    "x_{view} \\\\\n",
    "y_{view} \\\\\n",
    "z_{view} \\\\\n",
    "1\n",
    "\\end{bmatrix}\n",
    "$$$\n"
   ],
   "cell_type": "markdown",
   "metadata": {}
  },
  {
   "source": [
    "## Inverse\n",
    "\n",
    "$$$\n",
    "\\begin{bmatrix}\n",
    "x_{worl} * w \\\\\n",
    "y_{worl} * w \\\\\n",
    "z_{worl} * w \\\\\n",
    "w\n",
    "\\end{bmatrix} = MVP^{-1} * \\begin{bmatrix}\n",
    "x_{screen} \\\\\n",
    "y_{screen} \\\\\n",
    "z_{screen} \\\\\n",
    "1\n",
    "\\end{bmatrix}\n",
    "$$$"
   ],
   "cell_type": "markdown",
   "metadata": {}
  },
  {
   "cell_type": "code",
   "execution_count": 207,
   "metadata": {},
   "outputs": [
    {
     "output_type": "execute_result",
     "data": {
      "text/plain": [
       "array([[ 0. ,  2. ,  0. ,  2. ],\n",
       "       [ 2. ,  0. ,  0. ,  6. ],\n",
       "       [ 0. ,  0. , -4.5, -6.5],\n",
       "       [ 0. ,  0. , -3. , -1. ]])"
      ]
     },
     "metadata": {},
     "execution_count": 207
    }
   ],
   "source": [
    "MVP = np.matmul(projection, model)\n",
    "MVP"
   ]
  },
  {
   "cell_type": "code",
   "execution_count": 208,
   "metadata": {},
   "outputs": [
    {
     "output_type": "execute_result",
     "data": {
      "text/plain": [
       "array([0.75 , 1.   , 0.875, 1.   ])"
      ]
     },
     "metadata": {},
     "execution_count": 208
    }
   ],
   "source": [
    "wordPoint = np.array([1, 2, -3, 1])\n",
    "tmp = np.matmul(MVP, wordPoint)\n",
    "screenPoint = tmp / tmp[3]\n",
    "screenPoint"
   ]
  },
  {
   "cell_type": "code",
   "execution_count": 209,
   "metadata": {},
   "outputs": [
    {
     "output_type": "execute_result",
     "data": {
      "text/plain": [
       "array([[ 0.        ,  0.5       ,  0.6       , -0.9       ],\n",
       "       [ 0.5       ,  0.        ,  0.2       , -0.3       ],\n",
       "       [ 0.        ,  0.        ,  0.06666667, -0.43333333],\n",
       "       [ 0.        ,  0.        , -0.2       ,  0.3       ]])"
      ]
     },
     "metadata": {},
     "execution_count": 209
    }
   ],
   "source": [
    "MVPinv = np.linalg.inv(MVP)\n",
    "MVPinv"
   ]
  },
  {
   "cell_type": "code",
   "execution_count": 210,
   "metadata": {},
   "outputs": [
    {
     "output_type": "execute_result",
     "data": {
      "text/plain": [
       "array([ 1.,  2., -3.,  1.])"
      ]
     },
     "metadata": {},
     "execution_count": 210
    }
   ],
   "source": [
    "tmp = np.matmul(MVPinv, screenPoint)\n",
    "tmp / tmp[3]"
   ]
  },
  {
   "source": [
    "## Partial Inverse\n",
    "\n",
    "$$$\n",
    "\\begin{bmatrix}\n",
    "x_{worl} * w \\\\\n",
    "y_{worl} * w \\\\\n",
    "z_{worl} * w \\\\\n",
    "w\n",
    "\\end{bmatrix} = \\begin{bmatrix}\n",
    "m11 & m12 & m13 & m14 \\\\\n",
    "m21 & m22 & m23 & m24 \\\\\n",
    "m31 & m32 & m33 & m34 \\\\\n",
    "m41 & m42 & m43 & m44\n",
    "\\end{bmatrix} * \\begin{bmatrix}\n",
    "x_{screen} \\\\\n",
    "y_{screen} \\\\\n",
    "z_{screen} \\\\\n",
    "1\n",
    "\\end{bmatrix}\n",
    "$$$\n",
    "\n",
    "$$$\n",
    "\\begin{bmatrix}\n",
    "x_{worl} * w \\\\\n",
    "y_{worl} * w \\\\\n",
    "z_{worl} * w \\\\\n",
    "w\n",
    "\\end{bmatrix} = \\begin{bmatrix}\n",
    "m11 * x_{screen} + m12 * y_{screen} + m13 * z_{screen} + m14 \\\\\n",
    "m21 * x_{screen} + m22 * y_{screen} + m23 * z_{screen} + m24 \\\\\n",
    "m31 * x_{screen} + m32 * y_{screen} + m33 * z_{screen} + m34 \\\\\n",
    "m41 * x_{screen} + m42 * y_{screen} + m43 * z_{screen} + m44 \n",
    "\\end{bmatrix}\n",
    "$$$\n",
    "\n",
    "$$$\n",
    "\\begin{bmatrix}\n",
    "x_{worl} \\\\\n",
    "y_{worl} \\\\\n",
    "z_{worl} \\\\\n",
    "1\n",
    "\\end{bmatrix} = \\begin{bmatrix}\n",
    "\\frac{m11 * x_{screen} + m12 * y_{screen} + m13 * z_{screen} + m14}{m41 * x_{screen} + m42 * y_{screen} + m43 * z_{screen} + m44} \\\\\n",
    "\\frac{m21 * x_{screen} + m22 * y_{screen} + m23 * z_{screen} + m24}{m41 * x_{screen} + m42 * y_{screen} + m43 * z_{screen} + m44} \\\\\n",
    "\\frac{m31 * x_{screen} + m32 * y_{screen} + m33 * z_{screen} + m34}{m41 * x_{screen} + m42 * y_{screen} + m43 * z_{screen} + m44} \\\\\n",
    "1\n",
    "\\end{bmatrix}\n",
    "$$$\n",
    "\n",
    "$$$\n",
    "z_{worl} = \\frac{m31 * x_{screen} + m32 * y_{screen} + m33 * z_{screen} + m34}{m41 * x_{screen} + m42 * y_{screen} + m43 * z_{screen} + m44} \\\\\n",
    "\n",
    "(m41 * x_{screen} + m42 * y_{screen} + m43 * z_{screen} + m44) * z_{worl} = m31 * x_{screen} + m32 * y_{screen} + m33 * z_{screen} + m34 \\\\\n",
    "\n",
    "m41 * x_{screen} * z_{worl} + m42 * y_{screen} * z_{worl} + m43 * z_{screen} * z_{worl} + m44 * z_{worl} = m31 * x_{screen} + m32 * y_{screen} + m33 * z_{screen} + m34 \\\\\n",
    "\n",
    "x_{screen} * (m41 * z_{worl} - m31) + y_{screen} * (m42 * z_{worl} - m32) + z_{screen} * (m43 * z_{worl} - m33) + m44 * z_{worl} = m34 \\\\\n",
    "\n",
    "z_{screen} = \\frac{m34 - x_{screen} * (m41 * z_{worl} - m31) - y_{screen} * (m42 * z_{worl} - m32) - m44 * z_{worl}}{m43 * z_{worl} - m33}\n",
    "$$$"
   ],
   "cell_type": "markdown",
   "metadata": {}
  },
  {
   "cell_type": "code",
   "execution_count": 211,
   "metadata": {},
   "outputs": [
    {
     "output_type": "stream",
     "name": "stdout",
     "text": [
      "[0 0 1 1]\n[ 4.  10.5 18.1  1. ]\n[[-5.52486188e-01  0.00000000e+00 -1.76750209e-17  2.20994475e+00]\n [ 0.00000000e+00 -4.07613930e-01  7.63033393e-02  2.89885582e+00]\n [ 0.00000000e+00  0.00000000e+00  7.99794694e-18 -1.00000000e+00]\n [ 0.00000000e+00 -5.53012801e-03 -2.94525919e-02 -4.08841743e-01]]\n"
     ]
    },
    {
     "output_type": "execute_result",
     "data": {
      "text/plain": [
       "-15.70479535864979"
      ]
     },
     "metadata": {},
     "execution_count": 211
    }
   ],
   "source": [
    "MVP = np.array(\n",
    "    [[-1.81,     0,    -4,     0],\n",
    "     [    0, -2.37, -4.36, -6.14],\n",
    "     [    0, 0.445, 14.7, -32.8],\n",
    "     [    0,     0,    -1,     0]])\n",
    "wordPoint = np.array([0, 0, 1, 1])\n",
    "screenPoint = np.matmul(MVP, wordPoint)\n",
    "screenPoint = screenPoint / screenPoint[3]\n",
    "\n",
    "m = np.linalg.inv(MVP)\n",
    "\n",
    "xScreen = 0.46\n",
    "yScreen = 0.67\n",
    "zWorld = -20\n",
    "print(wordPoint)\n",
    "print(screenPoint)\n",
    "print(m)\n",
    "(m[2][3] - xScreen * (m[3][0] * zWorld - m[2][0]) - yScreen * (m[3][1] * zWorld - m[2][1]) - zWorld * m[3][3]) / (zWorld * m[3][2] - m[2][2])"
   ]
  },
  {
   "cell_type": "code",
   "execution_count": 212,
   "metadata": {},
   "outputs": [
    {
     "output_type": "execute_result",
     "data": {
      "text/plain": [
       "array([-4.5813253 , -1.60240964, -0.23293173,  1.        ])"
      ]
     },
     "metadata": {},
     "execution_count": 212
    }
   ],
   "source": [
    "tmp = np.matmul(MVPinv, screenPoint)\n",
    "tmp / tmp[3]"
   ]
  },
  {
   "cell_type": "code",
   "execution_count": 213,
   "metadata": {},
   "outputs": [
    {
     "output_type": "execute_result",
     "data": {
      "text/plain": [
       "array([8.8817842e-16, 4.4408921e-16, 1.0000000e+00, 1.0000000e+00])"
      ]
     },
     "metadata": {},
     "execution_count": 213
    }
   ],
   "source": [
    "tmp = np.array([\n",
    "    m[0][0] * screenPoint[0] + m[0][1] * screenPoint[1] + m[0][2] * screenPoint[2] + m[0][3],\n",
    "    m[1][0] * screenPoint[0] + m[1][1] * screenPoint[1] + m[1][2] * screenPoint[2] + m[1][3],\n",
    "    m[2][0] * screenPoint[0] + m[2][1] * screenPoint[1] + m[2][2] * screenPoint[2] + m[2][3],\n",
    "    m[3][0] * screenPoint[0] + m[3][1] * screenPoint[1] + m[3][2] * screenPoint[2] + m[3][3]\n",
    "])\n",
    "tmp / tmp[3]"
   ]
  },
  {
   "cell_type": "code",
   "execution_count": 214,
   "metadata": {},
   "outputs": [
    {
     "output_type": "execute_result",
     "data": {
      "text/plain": [
       "array([8.8817842e-16, 4.4408921e-16, 1.0000000e+00, 1.0000000e+00])"
      ]
     },
     "metadata": {},
     "execution_count": 214
    }
   ],
   "source": [
    "np.array([\n",
    "    (m[0][0] * screenPoint[0] + m[0][1] * screenPoint[1] + m[0][2] * screenPoint[2] + m[0][3]) /\n",
    "    (m[3][0] * screenPoint[0] + m[3][1] * screenPoint[1] + m[3][2] * screenPoint[2] + m[3][3]),\n",
    "    (m[1][0] * screenPoint[0] + m[1][1] * screenPoint[1] + m[1][2] * screenPoint[2] + m[1][3]) /\n",
    "    (m[3][0] * screenPoint[0] + m[3][1] * screenPoint[1] + m[3][2] * screenPoint[2] + m[3][3]),\n",
    "    (m[2][0] * screenPoint[0] + m[2][1] * screenPoint[1] + m[2][2] * screenPoint[2] + m[2][3]) /\n",
    "    (m[3][0] * screenPoint[0] + m[3][1] * screenPoint[1] + m[3][2] * screenPoint[2] + m[3][3]),\n",
    "    1\n",
    "])"
   ]
  },
  {
   "cell_type": "code",
   "execution_count": 215,
   "metadata": {},
   "outputs": [
    {
     "output_type": "stream",
     "name": "stdout",
     "text": [
      "1\n"
     ]
    },
    {
     "output_type": "execute_result",
     "data": {
      "text/plain": [
       "0.9999999999999999"
      ]
     },
     "metadata": {},
     "execution_count": 215
    }
   ],
   "source": [
    "print(wordPoint[2])\n",
    "\n",
    "(m[2][0] * screenPoint[0] + m[2][1] * screenPoint[1] + m[2][2] * screenPoint[2] + m[2][3]) / (m[3][0] * screenPoint[0] + m[3][1] * screenPoint[1] + m[3][2] * screenPoint[2] + m[3][3])"
   ]
  },
  {
   "cell_type": "code",
   "execution_count": 216,
   "metadata": {},
   "outputs": [
    {
     "output_type": "stream",
     "name": "stdout",
     "text": [
      "-0.9999999999999999\n"
     ]
    },
    {
     "output_type": "execute_result",
     "data": {
      "text/plain": [
       "-0.9999999999999998"
      ]
     },
     "metadata": {},
     "execution_count": 216
    }
   ],
   "source": [
    "print(wordPoint[2] * m[3][0] * screenPoint[0] + wordPoint[2] * m[3][1] * screenPoint[1] + wordPoint[2] * m[3][2] * screenPoint[2] + wordPoint[2] * m[3][3])\n",
    "\n",
    "(m[2][0] * screenPoint[0] + m[2][1] * screenPoint[1] + m[2][2] * screenPoint[2] + m[2][3])"
   ]
  },
  {
   "cell_type": "code",
   "execution_count": 217,
   "metadata": {},
   "outputs": [
    {
     "output_type": "stream",
     "name": "stdout",
     "text": [
      "-0.5330919132130293\n"
     ]
    },
    {
     "output_type": "execute_result",
     "data": {
      "text/plain": [
       "-0.5330919132130292"
      ]
     },
     "metadata": {},
     "execution_count": 217
    }
   ],
   "source": [
    "print(wordPoint[2] * m[3][2] * screenPoint[2] - m[2][2] * screenPoint[2])\n",
    "\n",
    "(m[2][0] * screenPoint[0] + m[2][1] * screenPoint[1] + m[2][3] - wordPoint[2] * m[3][0] * screenPoint[0] - wordPoint[2] * m[3][1] * screenPoint[1] - wordPoint[2] * m[3][3])"
   ]
  },
  {
   "cell_type": "code",
   "execution_count": 218,
   "metadata": {},
   "outputs": [
    {
     "output_type": "stream",
     "name": "stdout",
     "text": [
      "18.099999999999998\n"
     ]
    },
    {
     "output_type": "execute_result",
     "data": {
      "text/plain": [
       "18.099999999999994"
      ]
     },
     "metadata": {},
     "execution_count": 218
    }
   ],
   "source": [
    "print(screenPoint[2])\n",
    "\n",
    "(m[2][0] * screenPoint[0] + m[2][1] * screenPoint[1] + m[2][3] - wordPoint[2] * m[3][0] * screenPoint[0] - wordPoint[2] * m[3][1] * screenPoint[1] - wordPoint[2] * m[3][3]) / (wordPoint[2] * m[3][2] - m[2][2])"
   ]
  },
  {
   "cell_type": "code",
   "execution_count": 219,
   "metadata": {},
   "outputs": [
    {
     "output_type": "stream",
     "name": "stdout",
     "text": [
      "18.099999999999998\n"
     ]
    },
    {
     "output_type": "execute_result",
     "data": {
      "text/plain": [
       "-15.70479535864979"
      ]
     },
     "metadata": {},
     "execution_count": 219
    }
   ],
   "source": [
    "print(screenPoint[2])\n",
    "\n",
    "(m[2][3] + xScreen * (m[2][0] - zWorld * m[3][0]) + yScreen * (m[2][1] - zWorld * m[3][1]) - zWorld * m[3][3]) / (zWorld * m[3][2] - m[2][2])"
   ]
  }
 ]
}