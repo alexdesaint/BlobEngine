{
 "metadata": {
  "language_info": {
   "codemirror_mode": {
    "name": "ipython",
    "version": 3
   },
   "file_extension": ".py",
   "mimetype": "text/x-python",
   "name": "python",
   "nbconvert_exporter": "python",
   "pygments_lexer": "ipython3",
   "version": "3.9.6-final"
  },
  "orig_nbformat": 2,
  "kernelspec": {
   "name": "python39664bit6edcbe90d61e40e895b8d3b314d5a51e",
   "display_name": "Python 3.9.6 64-bit"
  }
 },
 "nbformat": 4,
 "nbformat_minor": 2,
 "cells": [
  {
   "cell_type": "code",
   "execution_count": 1,
   "metadata": {},
   "outputs": [],
   "source": [
    "import numpy as np"
   ]
  },
  {
   "cell_type": "code",
   "execution_count": 2,
   "metadata": {},
   "outputs": [
    {
     "output_type": "stream",
     "name": "stdout",
     "text": [
      "[[  0  -1   0   4]\n [  1   0   1  -4]\n [ -1   0   1 -15]\n [  0   0   0   1]]\n"
     ]
    },
    {
     "output_type": "execute_result",
     "data": {
      "text/plain": [
       "array([[ 0. ,  0.5, -0.5, -5.5],\n",
       "       [-1. ,  0. ,  0. ,  4. ],\n",
       "       [ 0. ,  0.5,  0.5,  9.5],\n",
       "       [ 0. ,  0. ,  0. ,  1. ]])"
      ]
     },
     "metadata": {},
     "execution_count": 2
    }
   ],
   "source": [
    "camera = np.array([\n",
    "    [0, -1, 0, 4],\n",
    "    [1, 0, 1, -4],\n",
    "    [-1, -0, 1, -15],\n",
    "    [0, 0, 0,1]\n",
    "])\n",
    "print(camera)\n",
    "np.linalg.inv(camera)"
   ]
  },
  {
   "cell_type": "code",
   "execution_count": 3,
   "metadata": {},
   "outputs": [
    {
     "output_type": "execute_result",
     "data": {
      "text/plain": [
       "array([[ 1,  2,  3,  4],\n",
       "       [ 5,  6,  7,  8],\n",
       "       [ 9, 10, 11, 12],\n",
       "       [13, 14, 15, 16]])"
      ]
     },
     "metadata": {},
     "execution_count": 3
    }
   ],
   "source": [
    "n1 = np.array([1, 2, 3, 4])\n",
    "n2 = np.array([5, 6, 7, 8])\n",
    "n3 = np.array([9, 10, 11, 12])\n",
    "n4 = np.array([13, 14, 15, 16])\n",
    "mat = np.array([n1, n2, n3, n4])\n",
    "mat"
   ]
  },
  {
   "cell_type": "code",
   "execution_count": 4,
   "metadata": {},
   "outputs": [
    {
     "output_type": "execute_result",
     "data": {
      "text/plain": [
       "-1"
      ]
     },
     "metadata": {},
     "execution_count": 4
    }
   ],
   "source": [
    "1 * 0 + 2 * 1 + 3 * -1 + 4 * 0"
   ]
  },
  {
   "cell_type": "code",
   "execution_count": 5,
   "metadata": {},
   "outputs": [
    {
     "output_type": "execute_result",
     "data": {
      "text/plain": [
       "-1"
      ]
     },
     "metadata": {},
     "execution_count": 5
    }
   ],
   "source": [
    "1 * -1 + 2 * 0 + 3 * 0 + 4 * 0"
   ]
  },
  {
   "cell_type": "code",
   "execution_count": 6,
   "metadata": {},
   "outputs": [
    {
     "output_type": "execute_result",
     "data": {
      "text/plain": [
       "5"
      ]
     },
     "metadata": {},
     "execution_count": 6
    }
   ],
   "source": [
    "1 * 0 + 2 * 1 + 3 * 1 + 4 * 0"
   ]
  },
  {
   "cell_type": "code",
   "execution_count": 7,
   "metadata": {},
   "outputs": [
    {
     "output_type": "execute_result",
     "data": {
      "text/plain": [
       "array([[  -1,   -1,    5,  -45],\n",
       "       [  -1,   -5,   13, -101],\n",
       "       [  -1,   -9,   21, -157],\n",
       "       [  -1,  -13,   29, -213]])"
      ]
     },
     "metadata": {},
     "execution_count": 7
    }
   ],
   "source": [
    "np.matmul(mat, camera)"
   ]
  },
  {
   "cell_type": "code",
   "execution_count": 8,
   "metadata": {},
   "outputs": [
    {
     "output_type": "execute_result",
     "data": {
      "text/plain": [
       "array([[  47,   50,   53,   56],\n",
       "       [ -42,  -44,  -46,  -48],\n",
       "       [-187, -202, -217, -232],\n",
       "       [  13,   14,   15,   16]])"
      ]
     },
     "metadata": {},
     "execution_count": 8
    }
   ],
   "source": [
    "np.matmul(camera, mat)"
   ]
  },
  {
   "cell_type": "code",
   "execution_count": 12,
   "metadata": {},
   "outputs": [
    {
     "output_type": "execute_result",
     "data": {
      "text/plain": [
       "array([ 30,  70, 110, 150])"
      ]
     },
     "metadata": {},
     "execution_count": 12
    }
   ],
   "source": [
    "np.matmul(mat, np.array([1, 2, 3, 4]))"
   ]
  }
 ]
}